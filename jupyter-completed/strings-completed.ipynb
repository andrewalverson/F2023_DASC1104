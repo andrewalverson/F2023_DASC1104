{
 "cells": [
  {
   "cell_type": "markdown",
   "metadata": {},
   "source": [
    "## Understanding `print()`\n",
    "\n",
    "  - THIS SECTION IS ALL ABOUT PRINTING"
   ]
  },
  {
   "cell_type": "code",
   "execution_count": 3,
   "metadata": {
    "tags": []
   },
   "outputs": [
    {
     "name": "stdout",
     "output_type": "stream",
     "text": [
      "hello world\n",
      "hello world\n"
     ]
    }
   ],
   "source": [
    "# hello world\n",
    "print(\"hello world\")\n",
    "print('hello world')"
   ]
  },
  {
   "cell_type": "markdown",
   "metadata": {},
   "source": [
    "### Printing quotation marks\n",
    "\n",
    "##### Write two print statements that give the following output:\n",
    "\n",
    "She said, 'hello world'\n",
    "\n",
    "She said, \"hello world\"\n"
   ]
  },
  {
   "cell_type": "code",
   "execution_count": 6,
   "metadata": {
    "tags": []
   },
   "outputs": [
    {
     "name": "stdout",
     "output_type": "stream",
     "text": [
      "She said, 'hello world'\n",
      "She said, \"hello world\"\n",
      "She said, \"hello world\"\n"
     ]
    }
   ],
   "source": [
    "print(\"She said, 'hello world'\")\n",
    "print('She said, \"hello world\"')\n",
    "print(\"She said, \\\"hello world\\\"\")"
   ]
  },
  {
   "cell_type": "markdown",
   "metadata": {},
   "source": [
    "### Store and print a variable"
   ]
  },
  {
   "cell_type": "code",
   "execution_count": 19,
   "metadata": {
    "tags": []
   },
   "outputs": [
    {
     "name": "stdout",
     "output_type": "stream",
     "text": [
      "bob\n",
      " dylan\n",
      "bob dylan\n",
      "bobfirst\n",
      "bob  dylan is really old\n",
      "bob  dylan is really old\n"
     ]
    }
   ],
   "source": [
    "# define some strings\n",
    "first = 'bob'\n",
    "last = ' dylan'\n",
    "\n",
    "# concatenate those strings\n",
    "full = first + last\n",
    "\n",
    "# print the strings\n",
    "print(first)\n",
    "print(last)\n",
    "print(first+last)\n",
    "print(first + \"first\")\n",
    "print(first, last, \"is really old\")\n",
    "print(first + ' ' + last + ' ' + \"is really old\")"
   ]
  },
  {
   "cell_type": "markdown",
   "metadata": {},
   "source": [
    "### Get the length of a string"
   ]
  },
  {
   "cell_type": "code",
   "execution_count": 23,
   "metadata": {
    "tags": []
   },
   "outputs": [
    {
     "name": "stdout",
     "output_type": "stream",
     "text": [
      "9\n",
      "9\n"
     ]
    },
    {
     "data": {
      "text/plain": [
       "9"
      ]
     },
     "execution_count": 23,
     "metadata": {},
     "output_type": "execute_result"
    }
   ],
   "source": [
    "# the long (but readable) way\n",
    "name_length = len(full)\n",
    "print(name_length)\n",
    "\n",
    "# a more concise way to do it, functions within functions\n",
    "print(len(full))\n",
    "name_length"
   ]
  },
  {
   "cell_type": "markdown",
   "metadata": {},
   "source": [
    "### Print strings and numbers"
   ]
  },
  {
   "cell_type": "code",
   "execution_count": 28,
   "metadata": {
    "tags": []
   },
   "outputs": [
    {
     "name": "stdout",
     "output_type": "stream",
     "text": [
      "There are 9 characters in Bob Dylan's name.\n",
      "There are 9 characters in Bob Dylan's name.\n"
     ]
    }
   ],
   "source": [
    "# print strings and integers\n",
    "print(\"There are\", name_length, \"characters in Bob Dylan's name.\")\n",
    "\n",
    "# print strings\n",
    "print(\"There are \" + str(name_length) + \" characters in Bob Dylan's name.\")"
   ]
  },
  {
   "cell_type": "markdown",
   "metadata": {},
   "source": [
    "### If x = 7 and y = \"7\", write two print statements to print \"77\" and \"14\" as the output"
   ]
  },
  {
   "cell_type": "code",
   "execution_count": 30,
   "metadata": {},
   "outputs": [
    {
     "name": "stdout",
     "output_type": "stream",
     "text": [
      "77\n",
      "14\n"
     ]
    }
   ],
   "source": [
    "x = 7\n",
    "y = \"7\"\n",
    "\n",
    "print(str(x) + y)\n",
    "print(x + int(y))"
   ]
  },
  {
   "cell_type": "markdown",
   "metadata": {},
   "source": [
    "## Some operations on strings"
   ]
  },
  {
   "cell_type": "code",
   "execution_count": 34,
   "metadata": {
    "tags": []
   },
   "outputs": [
    {
     "name": "stdout",
     "output_type": "stream",
     "text": [
      "BOB\n",
      "BOB\n",
      "bob\n"
     ]
    }
   ],
   "source": [
    "# methods to change the case of a string\n",
    "print(first.upper())\n",
    "up = first.upper()\n",
    "print(up)\n",
    "print(up.lower())"
   ]
  }
 ],
 "metadata": {
  "kernelspec": {
   "display_name": "Python 3",
   "language": "python",
   "name": "python3"
  },
  "language_info": {
   "codemirror_mode": {
    "name": "ipython",
    "version": 3
   },
   "file_extension": ".py",
   "mimetype": "text/x-python",
   "name": "python",
   "nbconvert_exporter": "python",
   "pygments_lexer": "ipython3",
   "version": "3.10.8"
  }
 },
 "nbformat": 4,
 "nbformat_minor": 2
}
