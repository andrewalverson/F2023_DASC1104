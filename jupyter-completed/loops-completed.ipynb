{
 "cells": [
  {
   "cell_type": "markdown",
   "metadata": {},
   "source": [
    "## understanding `extend`"
   ]
  },
  {
   "cell_type": "code",
   "execution_count": 1,
   "metadata": {},
   "outputs": [
    {
     "name": "stdout",
     "output_type": "stream",
     "text": [
      "['jackie', 'tito', 'jermaine', 'marlon', 'michael']\n",
      "<class 'list'>\n"
     ]
    }
   ],
   "source": [
    "# start fresh with new groups\n",
    "jackson5 = ['jackie', 'tito', 'jermaine', 'marlon', 'michael']\n",
    "destiny  = ['beyonce', 'kelly', 'michelle']\n",
    "top40    = ['taylorswift', 'postmalone']\n",
    "\n",
    "# what type is jackson5\n",
    "print(jackson5)\n",
    "print(type(jackson5))"
   ]
  },
  {
   "cell_type": "code",
   "execution_count": 2,
   "metadata": {
    "tags": []
   },
   "outputs": [
    {
     "name": "stdout",
     "output_type": "stream",
     "text": [
      "['jackie', 'tito', 'jermaine', 'marlon', 'michael', 'beyonce', 'kelly', 'michelle']\n"
     ]
    }
   ],
   "source": [
    "# extend() modifies a list in place, it doesn't return anything\n",
    "jackson5.extend(destiny)\n",
    "print(jackson5)"
   ]
  },
  {
   "cell_type": "markdown",
   "metadata": {},
   "source": [
    "## `append()` adds a single item"
   ]
  },
  {
   "cell_type": "code",
   "execution_count": 3,
   "metadata": {
    "tags": []
   },
   "outputs": [
    {
     "name": "stdout",
     "output_type": "stream",
     "text": [
      "['beyonce', 'kelly', 'michelle', ['george', 'paul', 'ringo', 'john']]\n"
     ]
    }
   ],
   "source": [
    "# use `append()` to add some old men\n",
    "destiny.append(['george', 'paul', 'ringo', 'john'])\n",
    "print(destiny)"
   ]
  },
  {
   "cell_type": "code",
   "execution_count": 4,
   "metadata": {
    "tags": []
   },
   "outputs": [
    {
     "name": "stdout",
     "output_type": "stream",
     "text": [
      "Ringo\n"
     ]
    }
   ],
   "source": [
    "# find and print Ringo, who is buried in a list within a list\n",
    "print(destiny[3][2].capitalize())"
   ]
  },
  {
   "cell_type": "markdown",
   "metadata": {},
   "source": [
    "## looping over a list\n",
    "\n",
    "### structure of a `for` loop\n"
   ]
  },
  {
   "cell_type": "code",
   "execution_count": 5,
   "metadata": {
    "tags": []
   },
   "outputs": [
    {
     "name": "stdout",
     "output_type": "stream",
     "text": [
      "The value of i: beyonce\n",
      "The value of i: kelly\n",
      "The value of i: michelle\n",
      "The value of i: ['george', 'paul', 'ringo', 'john']\n"
     ]
    }
   ],
   "source": [
    "# loop over 'destiny'\n",
    "for i in destiny:\n",
    "    print(\"The value of i:\", i)\n"
   ]
  },
  {
   "cell_type": "markdown",
   "metadata": {},
   "source": [
    "## checking the `type()`"
   ]
  },
  {
   "cell_type": "code",
   "execution_count": 6,
   "metadata": {},
   "outputs": [
    {
     "name": "stdout",
     "output_type": "stream",
     "text": [
      "<class 'str'>\n",
      "<class 'list'>\n"
     ]
    }
   ],
   "source": [
    "# what is destiny[1]? destiny[3]?\n",
    "print(type(destiny[1]))\n",
    "print(type(destiny[3]))"
   ]
  },
  {
   "cell_type": "markdown",
   "metadata": {},
   "source": [
    "## loop over a list within a list"
   ]
  },
  {
   "cell_type": "code",
   "execution_count": 7,
   "metadata": {
    "tags": []
   },
   "outputs": [
    {
     "name": "stdout",
     "output_type": "stream",
     "text": [
      "andy loves George\n",
      "andy loves Paul\n",
      "andy loves Ringo\n",
      "andy loves John\n"
     ]
    }
   ],
   "source": [
    "# loop over the old guys in 'destiny'\n",
    "for dude in destiny[3]:\n",
    "    print(\"andy loves \", end='')\n",
    "    print(dude.capitalize())"
   ]
  },
  {
   "cell_type": "markdown",
   "metadata": {},
   "source": [
    "## introducing a test"
   ]
  },
  {
   "cell_type": "code",
   "execution_count": 8,
   "metadata": {
    "tags": []
   },
   "outputs": [
    {
     "name": "stdout",
     "output_type": "stream",
     "text": [
      "beyonce is type <class 'str'>\n",
      "['george', 'paul', 'ringo', 'john'] is type <class 'list'>\n",
      "It's a string: beyonce\n",
      "It's a string: kelly\n",
      "It's a string: michelle\n",
      "It's a list: ['george', 'paul', 'ringo', 'john']\n"
     ]
    }
   ],
   "source": [
    "# what type of variable is this anyway?\n",
    "print(destiny[0], \"is type\", type(destiny[0]))\n",
    "print(destiny[3], \"is type\", type(destiny[3]))\n",
    "\n",
    "for i in destiny:\n",
    "    if type(i) is list:\n",
    "        print(\"It's a list:\", i)\n",
    "    else:\n",
    "        print(\"It's a string:\", i)\n"
   ]
  },
  {
   "cell_type": "markdown",
   "metadata": {},
   "source": [
    "## executing a nested `for` loop"
   ]
  },
  {
   "cell_type": "code",
   "execution_count": 13,
   "metadata": {
    "tags": []
   },
   "outputs": [
    {
     "name": "stdout",
     "output_type": "stream",
     "text": [
      "Destiny's Child member # 1 is Beyonce\n",
      "Destiny's Child member # 2 is Kelly\n",
      "Destiny's Child member # 3 is Michelle\n",
      "Beatles member # 1 is George\n",
      "Beatles member # 1 is George\n",
      "Beatles member # 2 is Paul\n",
      "Beatles member # 2 is Paul\n",
      "Beatles member # 3 is Ringo\n",
      "Beatles member # 3 is Ringo\n",
      "Beatles member # 4 is John\n",
      "Beatles member # 4 is John\n",
      "The total number of members of this group: 7\n"
     ]
    }
   ],
   "source": [
    "# loop within a loop\n",
    "\n",
    "# make counters for the two groups\n",
    "x = 0 # count the beatles\n",
    "y = 0 # count destiny's child\n",
    "\n",
    "for i in destiny:\n",
    "    if type(i) is list:\n",
    "        for j in i:\n",
    "            x = x + 1\n",
    "            print(\"Beatles member # \" + str(x) + ' is ' + j.capitalize())\n",
    "            print(\"Beatles member #\", x, 'is', j.capitalize())\n",
    "    else:\n",
    "        y += 1\n",
    "        print(\"Destiny's Child member # \" + str(y) + ' is ' + i.capitalize())\n",
    "\n",
    "print(\"The total number of members of this group:\", x + y)"
   ]
  },
  {
   "cell_type": "markdown",
   "metadata": {},
   "source": [
    "## retrieve the index _and_ the value with `enumerate()`\n",
    "\n",
    "Desired output: **President \\#1 is George Washington**"
   ]
  },
  {
   "cell_type": "code",
   "execution_count": 22,
   "metadata": {
    "tags": []
   },
   "outputs": [
    {
     "name": "stdout",
     "output_type": "stream",
     "text": [
      "President # 1 is George Washington\n",
      "President # 2 is John Adams\n",
      "President # 3 is Thomas Jefferson\n",
      "President # 4 is James Madison\n",
      "President # 5 is James Monroe\n",
      "President # 6 is John Quincy Adams\n",
      "President # 7 is Andrew Jackson\n",
      "President # 8 is Martin Van Buren\n",
      "President # 9 is William Henry Harrison\n",
      "President # 10 is John Tyler\n",
      "President # 11 is James Knox Polk\n",
      "President # 12 is Zachary Taylor\n",
      "President # 13 is Millard Fillmore\n",
      "President # 14 is Franklin Pierce\n",
      "President # 15 is James Buchanan\n",
      "President # 16 is Abraham Lincoln\n",
      "President # 17 is Andrew Johnson\n",
      "President # 18 is Ulysses S. Grant\n",
      "President # 19 is Rutherford Birchard Hayes\n",
      "President # 20 is James Abram Garfield\n",
      "President # 21 is Chester Alan Arthur\n",
      "President # 22 is Grover Cleveland\n",
      "President # 23 is Benjamin Harrison\n",
      "President # 24 is Grover Cleveland\n",
      "President # 25 is William McKinley\n",
      "President # 26 is Theodore Roosevelt\n",
      "President # 27 is William Howard Taft\n",
      "President # 28 is Woodrow Wilson\n",
      "President # 29 is Warren Gamaliel Harding\n",
      "President # 30 is Calvin Coolidge\n",
      "President # 31 is Herbert Clark Hoover\n",
      "President # 32 is Franklin Delano Roosevelt\n",
      "President # 33 is Harry S. Truman\n",
      "President # 34 is Dwight David Eisenhower\n",
      "President # 35 is John Fitzgerald Kennedy\n",
      "President # 36 is Lyndon Baines Johnson\n",
      "President # 37 is Richard Milhous Nixon\n",
      "President # 38 is Gerald Rudolph Ford\n",
      "President # 39 is James Earl Carter Jr.\n",
      "President # 40 is Ronald Wilson Reagan\n",
      "President # 41 is George Herbert Walker Bush\n",
      "President # 42 is William Jefferson Clinton\n",
      "President # 43 is George Walker Bush\n",
      "President # 44 is Barack Hussein Obama\n",
      "President # 45 is Donald Trump\n",
      "President # 46 is Joe Biden\n"
     ]
    }
   ],
   "source": [
    "# lots of flexibility with enumerate()\n",
    "presidents = [\"George Washington\", \"John Adams\", \"Thomas Jefferson\", \"James Madison\", \"James Monroe\", \"John Quincy Adams\", \"Andrew Jackson\", \"Martin Van Buren\", \"William Henry Harrison\", \"John Tyler\", \"James Knox Polk\", \"Zachary Taylor\", \"Millard Fillmore\", \"Franklin Pierce\", \"James Buchanan\", \"Abraham Lincoln\", \"Andrew Johnson\", \"Ulysses S. Grant\", \"Rutherford Birchard Hayes\", \"James Abram Garfield\", \"Chester Alan Arthur\", \"Grover Cleveland\", \"Benjamin Harrison\", \"Grover Cleveland\", \"William McKinley\", \"Theodore Roosevelt\", \"William Howard Taft\", \"Woodrow Wilson\", \"Warren Gamaliel Harding\", \"Calvin Coolidge\", \"Herbert Clark Hoover\", \"Franklin Delano Roosevelt\", \"Harry S. Truman\", \"Dwight David Eisenhower\", \"John Fitzgerald Kennedy\", \"Lyndon Baines Johnson\", \"Richard Milhous Nixon\", \"Gerald Rudolph Ford\", \"James Earl Carter Jr.\", \"Ronald Wilson Reagan\", \"George Herbert Walker Bush\", \"William Jefferson Clinton\", \"George Walker Bush\", \"Barack Hussein Obama\", \"Donald Trump\", \"Joe Biden\"]\n",
    "\n",
    "# pres_counter = 0\n",
    "\n",
    "#for pres in presidents:\n",
    "#    pres_counter += 1\n",
    "#    print(\"President #\", pres_counter, \"is\", pres)\n",
    "\n",
    "for num, name in enumerate(presidents):\n",
    "    print(\"President #\", num+1, \"is\", name)\n",
    "\n"
   ]
  },
  {
   "cell_type": "markdown",
   "metadata": {},
   "source": [
    "## loop over a string"
   ]
  },
  {
   "cell_type": "code",
   "execution_count": 24,
   "metadata": {},
   "outputs": [
    {
     "name": "stdout",
     "output_type": "stream",
     "text": [
      "d\n"
     ]
    }
   ],
   "source": [
    "today = \"Wednesday\"\n",
    "\n",
    "print(today[2])\n",
    "\n",
    "#for letter in today:\n",
    "#    print(letter)"
   ]
  },
  {
   "cell_type": "code",
   "execution_count": 36,
   "metadata": {},
   "outputs": [
    {
     "name": "stdout",
     "output_type": "stream",
     "text": [
      "1\n",
      "letter # 1 is a\n",
      "letter # 2 is b\n",
      "letter # 3 is c\n"
     ]
    }
   ],
   "source": [
    "letters = ['a', 'b', 'c', 'd']\n",
    "numbers = [1, 2, 3]\n",
    "\n",
    "print(len(letters) - len(numbers))\n",
    "\n",
    "for i in range(len(numbers)):\n",
    "    print(\"letter #\", numbers[i], \"is\", letters[i])"
   ]
  },
  {
   "cell_type": "code",
   "execution_count": null,
   "metadata": {},
   "outputs": [],
   "source": []
  }
 ],
 "metadata": {
  "kernelspec": {
   "display_name": "Python 3",
   "language": "python",
   "name": "python3"
  },
  "language_info": {
   "codemirror_mode": {
    "name": "ipython",
    "version": 3
   },
   "file_extension": ".py",
   "mimetype": "text/x-python",
   "name": "python",
   "nbconvert_exporter": "python",
   "pygments_lexer": "ipython3",
   "version": "3.10.8"
  }
 },
 "nbformat": 4,
 "nbformat_minor": 2
}
