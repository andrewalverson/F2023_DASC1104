{
 "cells": [
  {
   "cell_type": "markdown",
   "metadata": {},
   "source": [
    "## Working with lists\n",
    "    - this stuff is really important!"
   ]
  },
  {
   "cell_type": "code",
   "execution_count": 3,
   "metadata": {},
   "outputs": [],
   "source": [
    "# declare an empty string\n",
    "nobody = ''\n",
    "\n",
    "# declare a list\n",
    "beatles = []"
   ]
  },
  {
   "cell_type": "markdown",
   "metadata": {},
   "source": [
    "### What kind of variable is this?"
   ]
  },
  {
   "cell_type": "code",
   "execution_count": 4,
   "metadata": {},
   "outputs": [
    {
     "name": "stdout",
     "output_type": "stream",
     "text": [
      "<class 'list'>\n"
     ]
    }
   ],
   "source": [
    "print(type(beatles))"
   ]
  },
  {
   "cell_type": "markdown",
   "metadata": {},
   "source": [
    "### Populate and print a list"
   ]
  },
  {
   "cell_type": "code",
   "execution_count": 20,
   "metadata": {},
   "outputs": [
    {
     "name": "stdout",
     "output_type": "stream",
     "text": [
      "['John', 'Paul', 'George', 'Ringo', 'Stuart']\n"
     ]
    }
   ],
   "source": [
    "beatles = [\"John\", \"Paul\", \"George\", \"Ringo\", \"Stuart\"]\n",
    "\n",
    "print(beatles)"
   ]
  },
  {
   "cell_type": "markdown",
   "metadata": {
    "tags": []
   },
   "source": [
    "### Calculate and print the length of a list"
   ]
  },
  {
   "cell_type": "code",
   "execution_count": 11,
   "metadata": {
    "tags": []
   },
   "outputs": [
    {
     "name": "stdout",
     "output_type": "stream",
     "text": [
      "There are 5 Beatles\n"
     ]
    }
   ],
   "source": [
    "# calculate number of beatles\n",
    "number_of_beatles = len(beatles)\n",
    "\n",
    "# print number of beatles\n",
    "print(\"There are\", number_of_beatles, \"Beatles\")"
   ]
  },
  {
   "cell_type": "markdown",
   "metadata": {},
   "source": [
    "### Print an item in a list \n",
    "   \n",
    "   _see PowerPoint slides_"
   ]
  },
  {
   "cell_type": "code",
   "execution_count": 17,
   "metadata": {
    "tags": []
   },
   "outputs": [
    {
     "name": "stdout",
     "output_type": "stream",
     "text": [
      "John\n",
      "The last Beatle is: Stuart\n",
      "The last Beatle is: Stuart\n",
      "The last Beatle is: Stuart\n"
     ]
    }
   ],
   "source": [
    "# print the first beatle\n",
    "print(beatles[0])\n",
    "\n",
    "# print the last Beatle\n",
    "print(\"The last Beatle is:\", beatles[4])\n",
    "print(\"The last Beatle is:\", beatles[-1])\n",
    "print(\"The last Beatle is:\", beatles[len(beatles)-1])"
   ]
  },
  {
   "cell_type": "markdown",
   "metadata": {
    "tags": []
   },
   "source": [
    "### Remove an item from a list"
   ]
  },
  {
   "cell_type": "code",
   "execution_count": 21,
   "metadata": {
    "tags": []
   },
   "outputs": [
    {
     "name": "stdout",
     "output_type": "stream",
     "text": [
      "Stuart\n",
      "['John', 'Paul', 'George', 'Ringo']\n"
     ]
    }
   ],
   "source": [
    "# Remove the last item in the list (bye, Stuart)\n",
    "stu = beatles.pop()\n",
    "print(stu)\n",
    "# What happened to the Beatles?\n",
    "print(beatles)"
   ]
  },
  {
   "cell_type": "markdown",
   "metadata": {},
   "source": [
    "### Make a new list"
   ]
  },
  {
   "cell_type": "code",
   "execution_count": 23,
   "metadata": {},
   "outputs": [
    {
     "name": "stdout",
     "output_type": "stream",
     "text": [
      "Mick\n"
     ]
    }
   ],
   "source": [
    "# make a list called 'stones' with the Rolling Stones (Mick, Ron, and Keith)\n",
    "stones = ['Mick', 'Ron', \"Keith\"]\n",
    "print(stones[0])"
   ]
  },
  {
   "cell_type": "markdown",
   "metadata": {},
   "source": [
    "### Add two lists"
   ]
  },
  {
   "cell_type": "code",
   "execution_count": 25,
   "metadata": {
    "tags": []
   },
   "outputs": [
    {
     "name": "stdout",
     "output_type": "stream",
     "text": [
      "['John', 'Paul', 'George', 'Ringo', 'Mick', 'Ron', 'Keith']\n",
      "Total members in supergroup: 7\n"
     ]
    }
   ],
   "source": [
    "# add two lists together\n",
    "supergroup = beatles + stones\n",
    "\n",
    "# print our new list\n",
    "print(supergroup)\n",
    "print(\"Total members in supergroup:\", len(supergroup))"
   ]
  },
  {
   "cell_type": "markdown",
   "metadata": {},
   "source": [
    "### Make some new lists"
   ]
  },
  {
   "cell_type": "code",
   "execution_count": 26,
   "metadata": {},
   "outputs": [
    {
     "name": "stdout",
     "output_type": "stream",
     "text": [
      "['jackie', 'tito', 'jermaine', 'marlon']\n"
     ]
    }
   ],
   "source": [
    "# start fresh with new groups\n",
    "jackson5 = ['jackie', 'tito', 'jermaine', 'marlon', 'michael']\n",
    "destiny  = ['beyonce', 'kelly', 'michelle']\n",
    "top40    = ['taylorswift', 'postmalone']\n",
    "\n",
    "# make a supergroup\n",
    "super = []\n",
    "\n",
    "# remove Michael :(\n",
    "jackson5.pop()\n",
    "print(jackson5)"
   ]
  },
  {
   "cell_type": "markdown",
   "metadata": {},
   "source": [
    "### Growing a list with `extend()`"
   ]
  },
  {
   "cell_type": "code",
   "execution_count": 28,
   "metadata": {
    "tags": []
   },
   "outputs": [
    {
     "name": "stdout",
     "output_type": "stream",
     "text": [
      "Jackson5: ['jackie', 'tito', 'jermaine', 'marlon']\n",
      "Destiny's Child: ['beyonce', 'kelly', 'michelle']\n"
     ]
    }
   ],
   "source": [
    "# print our lists\n",
    "print(\"Jackson5:\", jackson5)\n",
    "print(\"Destiny's Child:\", destiny)\n",
    "# use extend() to add Destiny's Child to the Jackson 5\n"
   ]
  },
  {
   "cell_type": "code",
   "execution_count": 29,
   "metadata": {},
   "outputs": [
    {
     "name": "stdout",
     "output_type": "stream",
     "text": [
      "The greatest supergroup: None\n"
     ]
    }
   ],
   "source": [
    "jackson5.extend(destiny)\n",
    "# extend() modifies a list in place, it doesn't return a value (i.e., a new list)"
   ]
  },
  {
   "cell_type": "code",
   "execution_count": 31,
   "metadata": {
    "tags": []
   },
   "outputs": [
    {
     "name": "stdout",
     "output_type": "stream",
     "text": [
      "The greatest supergroup: ['jackie', 'tito', 'jermaine', 'marlon', 'beyonce', 'kelly', 'michelle']\n",
      "['beyonce', 'kelly', 'michelle', 'taylorswift', 'postmalone']\n"
     ]
    }
   ],
   "source": [
    "print(\"The greatest supergroup:\", jackson5)\n",
    "\n",
    "# use \"+\" if you want to create a new list\n",
    "destiny.extend(top40)\n",
    "print(super)"
   ]
  },
  {
   "cell_type": "markdown",
   "metadata": {},
   "source": [
    "### Growing a list with `append()`"
   ]
  },
  {
   "cell_type": "code",
   "execution_count": 33,
   "metadata": {
    "tags": []
   },
   "outputs": [
    {
     "name": "stdout",
     "output_type": "stream",
     "text": [
      "['beyonce', 'kelly', 'michelle', 'taylorswift', 'postmalone']\n",
      "['beyonce', 'kelly', 'michelle', 'taylorswift', 'postmalone', ['John', 'Paul', 'George', 'Ringo']]\n"
     ]
    }
   ],
   "source": [
    "# use `append()` to add some old men\n",
    "print(super)\n",
    "super.append(beatles)\n",
    "print(super)\n",
    "# What did append do?"
   ]
  },
  {
   "cell_type": "code",
   "execution_count": 37,
   "metadata": {
    "tags": []
   },
   "outputs": [
    {
     "name": "stdout",
     "output_type": "stream",
     "text": [
      "6\n",
      "kelly\n",
      "Ringo\n"
     ]
    }
   ],
   "source": [
    "# How long is this list?\n",
    "print(len(super))\n",
    "# Find and print Ringo, who is buried in there\n",
    "#print Kelly\n",
    "print(super[1])\n",
    "print(super[5][3])"
   ]
  },
  {
   "cell_type": "code",
   "execution_count": null,
   "metadata": {},
   "outputs": [],
   "source": []
  }
 ],
 "metadata": {
  "kernelspec": {
   "display_name": "Python 3",
   "language": "python",
   "name": "python3"
  },
  "language_info": {
   "codemirror_mode": {
    "name": "ipython",
    "version": 3
   },
   "file_extension": ".py",
   "mimetype": "text/x-python",
   "name": "python",
   "nbconvert_exporter": "python",
   "pygments_lexer": "ipython3",
   "version": "3.10.8"
  }
 },
 "nbformat": 4,
 "nbformat_minor": 2
}
